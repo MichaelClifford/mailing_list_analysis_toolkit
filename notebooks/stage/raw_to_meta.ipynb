{
 "cells": [
  {
   "cell_type": "markdown",
   "metadata": {},
   "source": [
    "# raw_to_metadata monthly data"
   ]
  },
  {
   "cell_type": "markdown",
   "metadata": {},
   "source": [
    "take the most recent month's mbox file and convert it into a csv for analysis."
   ]
  },
  {
   "cell_type": "code",
   "execution_count": null,
   "metadata": {},
   "outputs": [],
   "source": [
    "import mailbox\n",
    "import os \n",
    "import gzip\n",
    "import pandas as pd\n",
    "import boto3\n",
    "from pathlib import Path\n",
    "from dotenv import load_dotenv\n",
    "load_dotenv(\"../../.env\")"
   ]
  },
  {
   "cell_type": "code",
   "execution_count": null,
   "metadata": {},
   "outputs": [],
   "source": [
    "# TODO - add bits for running in automation"
   ]
  },
  {
   "cell_type": "code",
   "execution_count": null,
   "metadata": {},
   "outputs": [],
   "source": [
    "path = Path(\"../../data/raw/fedora-devel-list/\")\n",
    "mboxs = [x.name for x in list(path.glob('*.mbox'))]"
   ]
  },
  {
   "cell_type": "code",
   "execution_count": null,
   "metadata": {},
   "outputs": [],
   "source": [
    "def mbox_to_meta(mbox):\n",
    "    \n",
    "    csv = []\n",
    "    for msg in mbox:\n",
    "        msg_id = msg[\"Message-ID\"]\n",
    "        date = msg[\"Date\"]\n",
    "        from_ = msg[\"From\"]\n",
    "        to = msg[\"To\"]\n",
    "        subject = msg[\"Subject\"]\n",
    "        reply_to = msg[\"In-Reply-To\"]\n",
    "\n",
    "        csv.append((msg_id, date, from_, to, subject, reply_to))\n",
    "    df = pd.DataFrame(csv,columns=['Message-ID', 'Date', 'From',\n",
    "                                       'To', 'Subject', 'In-Reply-To'])\n",
    "        \n",
    "    return df"
   ]
  },
  {
   "cell_type": "code",
   "execution_count": null,
   "metadata": {},
   "outputs": [],
   "source": [
    "base = \"/\".join(path.relative_to(\".\").parts)\n",
    "for mbox in mboxs:\n",
    "    monthly_mbox = \"/\".join([base,mbox])\n",
    "    monthly_mbox = mailbox.mbox(monthly_mbox)\n",
    "    df = mbox_to_meta(monthly_mbox)\n",
    "    df.to_csv(\"../../data/interim/metadata/\"+mbox+\".csv\")\n",
    "    print(f\"data/interim/metadata/{mbox} saved\")"
   ]
  },
  {
   "cell_type": "code",
   "execution_count": null,
   "metadata": {},
   "outputs": [],
   "source": [
    "# Push to Ceph"
   ]
  },
  {
   "cell_type": "code",
   "execution_count": null,
   "metadata": {},
   "outputs": [],
   "source": [
    "BASE_PATH = os.getenv(\"LOCAL_DATA_PATH\", \"../../data\")\n",
    "\n",
    "S3_ENDPOINT_URL = os.getenv('S3_ENDPOINT_URL', 'https://s3.upshift.redhat.com')\n",
    "AWS_ACCESS_KEY_ID = os.getenv('AWS_ACCESS_KEY_ID')\n",
    "AWS_SECRET_ACCESS_KEY = os.getenv('AWS_SECRET_ACCESS_KEY')\n",
    "S3_BUCKET = os.getenv('S3_BUCKET', 'DH-PLAYPEN')\n",
    "S3_PROJECT_KEY = os.getenv(\"S3_PROJECT_KEY\",\"'mcliffor/fedora_devel_mail/\") "
   ]
  }
 ],
 "metadata": {
  "kernelspec": {
   "display_name": "devenv",
   "language": "python",
   "name": "devenv"
  },
  "language_info": {
   "codemirror_mode": {
    "name": "ipython",
    "version": 3
   },
   "file_extension": ".py",
   "mimetype": "text/x-python",
   "name": "python",
   "nbconvert_exporter": "python",
   "pygments_lexer": "ipython3",
   "version": "3.7.4"
  }
 },
 "nbformat": 4,
 "nbformat_minor": 2
}

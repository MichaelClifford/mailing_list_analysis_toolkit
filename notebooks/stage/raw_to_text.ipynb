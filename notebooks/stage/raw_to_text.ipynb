{
 "cells": [
  {
   "cell_type": "markdown",
   "metadata": {},
   "source": [
    "# raw_to_text monthly data"
   ]
  },
  {
   "cell_type": "markdown",
   "metadata": {},
   "source": [
    "take the most recent month's mbox file and convert it into a csv for analysis."
   ]
  },
  {
   "cell_type": "code",
   "execution_count": 1,
   "metadata": {},
   "outputs": [
    {
     "data": {
      "text/plain": [
       "True"
      ]
     },
     "execution_count": 1,
     "metadata": {},
     "output_type": "execute_result"
    }
   ],
   "source": [
    "import mailbox\n",
    "import os \n",
    "import gzip\n",
    "import pandas as pd\n",
    "import boto3\n",
    "from pathlib import Path\n",
    "from dotenv import load_dotenv\n",
    "load_dotenv(\"../../.env\")"
   ]
  },
  {
   "cell_type": "code",
   "execution_count": null,
   "metadata": {},
   "outputs": [],
   "source": [
    "# TODO - add bits for running in automation"
   ]
  },
  {
   "cell_type": "code",
   "execution_count": 3,
   "metadata": {},
   "outputs": [
    {
     "data": {
      "text/plain": [
       "['fedora-devel-2018-3.mbox',\n",
       " 'fedora-devel-2018-5.mbox',\n",
       " 'fedora-devel-2018-6.mbox',\n",
       " 'fedora-devel-2018-7.mbox',\n",
       " 'fedora-devel-2018-8.mbox',\n",
       " 'fedora-devel-2018-9.mbox',\n",
       " 'fedora-devel-2019-7.mbox',\n",
       " 'fedora-devel-2019-8.mbox',\n",
       " 'fedora-devel-2019-9.mbox',\n",
       " 'fedora-devel-2019-10.mbox',\n",
       " 'fedora-devel-2019-11.mbox',\n",
       " 'fedora-devel-2019-12.mbox',\n",
       " 'fedora-devel-2020-1.mbox',\n",
       " 'fedora-devel-2020-2.mbox',\n",
       " 'fedora-devel-2020-3.mbox',\n",
       " 'fedora-devel-2020-4.mbox',\n",
       " 'fedora-devel-2020-5.mbox',\n",
       " 'fedora-devel-2020-6.mbox',\n",
       " 'fedora-devel-2020-7.mbox',\n",
       " 'fedora-devel-2020-8.mbox',\n",
       " 'fedora-devel-2020-9.mbox',\n",
       " 'fedora-devel-2020-10.mbox',\n",
       " 'fedora-devel-2020-11.mbox',\n",
       " 'fedora-devel-2018-1.mbox',\n",
       " 'fedora-devel-2018-2.mbox',\n",
       " 'fedora-devel-2018-4.mbox',\n",
       " 'fedora-devel-2018-10.mbox',\n",
       " 'fedora-devel-2018-11.mbox',\n",
       " 'fedora-devel-2018-12.mbox',\n",
       " 'fedora-devel-2019-1.mbox',\n",
       " 'fedora-devel-2019-2.mbox',\n",
       " 'fedora-devel-2019-3.mbox',\n",
       " 'fedora-devel-2019-4.mbox',\n",
       " 'fedora-devel-2019-5.mbox',\n",
       " 'fedora-devel-2019-6.mbox']"
      ]
     },
     "execution_count": 3,
     "metadata": {},
     "output_type": "execute_result"
    }
   ],
   "source": [
    "path = Path(\"../../data/raw/fedora-devel-list/\")\n",
    "mboxs = [x.name for x in list(path.glob('*.mbox'))]"
   ]
  },
  {
   "cell_type": "code",
   "execution_count": 33,
   "metadata": {},
   "outputs": [],
   "source": [
    "def mbox_to_text(mbox):\n",
    "\n",
    "    csv = []\n",
    "    for msg in mbox:\n",
    "        msg_id = msg[\"Message-ID\"]\n",
    "        date = msg[\"Date\"]\n",
    "        body = []\n",
    "        for m in msg.get_payload():\n",
    "            body.append(m.get_payload())\n",
    "\n",
    "        csv.append((msg_id, date, body))\n",
    "    df = pd.DataFrame(csv,columns=['Message-ID', \"Date\", \"Body\"])\n",
    "    return df"
   ]
  },
  {
   "cell_type": "code",
   "execution_count": 45,
   "metadata": {},
   "outputs": [
    {
     "name": "stdout",
     "output_type": "stream",
     "text": [
      "data/interim/text/fedora-devel-2018-3.mbox saved\n",
      "data/interim/text/fedora-devel-2018-5.mbox saved\n",
      "data/interim/text/fedora-devel-2018-6.mbox saved\n",
      "data/interim/text/fedora-devel-2018-7.mbox saved\n",
      "data/interim/text/fedora-devel-2018-8.mbox saved\n",
      "data/interim/text/fedora-devel-2018-9.mbox saved\n",
      "data/interim/text/fedora-devel-2019-7.mbox saved\n",
      "data/interim/text/fedora-devel-2019-8.mbox saved\n",
      "data/interim/text/fedora-devel-2019-9.mbox saved\n",
      "data/interim/text/fedora-devel-2019-10.mbox saved\n",
      "data/interim/text/fedora-devel-2019-11.mbox saved\n",
      "data/interim/text/fedora-devel-2019-12.mbox saved\n",
      "data/interim/text/fedora-devel-2020-1.mbox saved\n",
      "data/interim/text/fedora-devel-2020-2.mbox saved\n",
      "data/interim/text/fedora-devel-2020-3.mbox saved\n",
      "data/interim/text/fedora-devel-2020-4.mbox saved\n",
      "data/interim/text/fedora-devel-2020-5.mbox saved\n",
      "data/interim/text/fedora-devel-2020-6.mbox saved\n",
      "data/interim/text/fedora-devel-2020-7.mbox saved\n",
      "data/interim/text/fedora-devel-2020-8.mbox saved\n",
      "data/interim/text/fedora-devel-2020-9.mbox saved\n",
      "data/interim/text/fedora-devel-2020-10.mbox saved\n",
      "data/interim/text/fedora-devel-2020-11.mbox saved\n",
      "data/interim/text/fedora-devel-2018-1.mbox saved\n",
      "data/interim/text/fedora-devel-2018-2.mbox saved\n",
      "data/interim/text/fedora-devel-2018-4.mbox saved\n",
      "data/interim/text/fedora-devel-2018-10.mbox saved\n",
      "data/interim/text/fedora-devel-2018-11.mbox saved\n",
      "data/interim/text/fedora-devel-2018-12.mbox saved\n",
      "data/interim/text/fedora-devel-2019-1.mbox saved\n",
      "data/interim/text/fedora-devel-2019-2.mbox saved\n",
      "data/interim/text/fedora-devel-2019-3.mbox saved\n",
      "data/interim/text/fedora-devel-2019-4.mbox saved\n",
      "data/interim/text/fedora-devel-2019-5.mbox saved\n",
      "data/interim/text/fedora-devel-2019-6.mbox saved\n"
     ]
    }
   ],
   "source": [
    "base = \"/\".join(path.relative_to(\".\").parts)\n",
    "for mbox in mboxs:\n",
    "    monthly_mbox = \"/\".join([base,mbox])\n",
    "    monthly_mbox = mailbox.mbox(monthly_mbox)\n",
    "    df = mbox_to_text(monthly_mbox)\n",
    "    df.to_csv(\"../../data/interim/text/\"+mbox+\".csv\")\n",
    "    print(f\"data/interim/text/{mbox} saved\")"
   ]
  },
  {
   "cell_type": "code",
   "execution_count": null,
   "metadata": {},
   "outputs": [],
   "source": [
    "# todo - Push to CEPH"
   ]
  },
  {
   "cell_type": "code",
   "execution_count": 94,
   "metadata": {},
   "outputs": [],
   "source": [
    "BASE_PATH = os.getenv(\"LOCAL_DATA_PATH\", \"../../data\")\n",
    "\n",
    "S3_ENDPOINT_URL = os.getenv('S3_ENDPOINT_URL', 'https://s3.upshift.redhat.com')\n",
    "AWS_ACCESS_KEY_ID = os.getenv('AWS_ACCESS_KEY_ID')\n",
    "AWS_SECRET_ACCESS_KEY = os.getenv('AWS_SECRET_ACCESS_KEY')\n",
    "S3_BUCKET = os.getenv('S3_BUCKET', 'DH-PLAYPEN')\n",
    "S3_PROJECT_KEY = os.getenv(\"S3_PROJECT_KEY\",\"'mcliffor/fedora_devel_mail/\") "
   ]
  }
 ],
 "metadata": {
  "kernelspec": {
   "display_name": "devenv",
   "language": "python",
   "name": "devenv"
  },
  "language_info": {
   "codemirror_mode": {
    "name": "ipython",
    "version": 3
   },
   "file_extension": ".py",
   "mimetype": "text/x-python",
   "name": "python",
   "nbconvert_exporter": "python",
   "pygments_lexer": "ipython3",
   "version": "3.7.4"
  }
 },
 "nbformat": 4,
 "nbformat_minor": 2
}

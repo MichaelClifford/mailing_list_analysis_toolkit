{
 "cells": [
  {
   "cell_type": "markdown",
   "metadata": {},
   "source": [
    "# raw_to_text monthly data"
   ]
  },
  {
   "cell_type": "markdown",
   "metadata": {},
   "source": [
    "take the most recent month's mbox file and convert it into a csv for analysis."
   ]
  },
  {
   "cell_type": "code",
   "execution_count": 2,
   "metadata": {},
   "outputs": [],
   "source": [
    "import mailbox\n",
    "import os\n",
    "import sys\n",
    "import gzip\n",
    "import pandas as pd\n",
    "import boto3\n",
    "from pathlib import Path\n",
    "from dotenv import load_dotenv\n",
    "load_dotenv(\"../../.env\")\n",
    "\n",
    "sys.path.append('../..')\n",
    "\n",
    "from src import utils"
   ]
  },
  {
   "cell_type": "code",
   "execution_count": 5,
   "metadata": {},
   "outputs": [],
   "source": [
    "BASE_PATH = os.getenv(\"LOCAL_DATA_PATH\", \"../../data\")\n",
    "path = Path(BASE_PATH).joinpath('raw/fedora-devel-list')\n",
    "mboxes = [x.name for x in list(path.glob('*.mbox'))]"
   ]
  },
  {
   "cell_type": "code",
   "execution_count": 6,
   "metadata": {},
   "outputs": [],
   "source": [
    "def mbox_to_text(mbox):\n",
    "\n",
    "    csv = []\n",
    "    for msg in mbox:\n",
    "        msg_id = msg[\"Message-ID\"]\n",
    "        date = msg[\"Date\"]\n",
    "        body = []\n",
    "        for m in msg.get_payload():\n",
    "            body.append(m.get_payload())\n",
    "\n",
    "        csv.append((msg_id, date, body))\n",
    "    df = pd.DataFrame(csv,columns=['Message-ID', \"Date\", \"Body\"])\n",
    "    return df"
   ]
  },
  {
   "cell_type": "code",
   "execution_count": 7,
   "metadata": {},
   "outputs": [
    {
     "name": "stdout",
     "output_type": "stream",
     "text": [
      "../../data/interim/text/fedora-devel-2018-3.mbox.csv saved\n",
      "../../data/interim/text/fedora-devel-2018-5.mbox.csv saved\n",
      "../../data/interim/text/fedora-devel-2018-6.mbox.csv saved\n",
      "../../data/interim/text/fedora-devel-2018-7.mbox.csv saved\n",
      "../../data/interim/text/fedora-devel-2018-8.mbox.csv saved\n",
      "../../data/interim/text/fedora-devel-2018-9.mbox.csv saved\n",
      "../../data/interim/text/fedora-devel-2019-7.mbox.csv saved\n",
      "../../data/interim/text/fedora-devel-2019-8.mbox.csv saved\n",
      "../../data/interim/text/fedora-devel-2019-9.mbox.csv saved\n",
      "../../data/interim/text/fedora-devel-2019-10.mbox.csv saved\n",
      "../../data/interim/text/fedora-devel-2019-11.mbox.csv saved\n",
      "../../data/interim/text/fedora-devel-2019-12.mbox.csv saved\n",
      "../../data/interim/text/fedora-devel-2020-1.mbox.csv saved\n",
      "../../data/interim/text/fedora-devel-2020-2.mbox.csv saved\n",
      "../../data/interim/text/fedora-devel-2020-3.mbox.csv saved\n",
      "../../data/interim/text/fedora-devel-2020-4.mbox.csv saved\n",
      "../../data/interim/text/fedora-devel-2020-5.mbox.csv saved\n",
      "../../data/interim/text/fedora-devel-2020-6.mbox.csv saved\n",
      "../../data/interim/text/fedora-devel-2020-7.mbox.csv saved\n",
      "../../data/interim/text/fedora-devel-2020-8.mbox.csv saved\n",
      "../../data/interim/text/fedora-devel-2020-9.mbox.csv saved\n",
      "../../data/interim/text/fedora-devel-2020-10.mbox.csv saved\n",
      "../../data/interim/text/fedora-devel-2020-11.mbox.csv saved\n",
      "../../data/interim/text/fedora-devel-2018-12.mbox.csv saved\n",
      "../../data/interim/text/fedora-devel-2018-1.mbox.csv saved\n",
      "../../data/interim/text/fedora-devel-2018-2.mbox.csv saved\n",
      "../../data/interim/text/fedora-devel-2018-4.mbox.csv saved\n",
      "../../data/interim/text/fedora-devel-2018-10.mbox.csv saved\n",
      "../../data/interim/text/fedora-devel-2018-11.mbox.csv saved\n",
      "../../data/interim/text/fedora-devel-2019-1.mbox.csv saved\n",
      "../../data/interim/text/fedora-devel-2019-2.mbox.csv saved\n",
      "../../data/interim/text/fedora-devel-2019-3.mbox.csv saved\n",
      "../../data/interim/text/fedora-devel-2019-4.mbox.csv saved\n",
      "../../data/interim/text/fedora-devel-2019-5.mbox.csv saved\n",
      "../../data/interim/text/fedora-devel-2019-6.mbox.csv saved\n"
     ]
    }
   ],
   "source": [
    "# Ensure datset location exists\n",
    "dataset_base_path = Path(f\"{BASE_PATH}/interim/text\")\n",
    "dataset_base_path.mkdir(parents=True, exist_ok=True)\n",
    "\n",
    "\n",
    "# Register all created dataset slices for later upload\n",
    "new_files = []\n",
    "\n",
    "for mbox in mboxs:\n",
    "    output_path = dataset_base_path.joinpath(f'{mbox}.csv')\n",
    "    monthly_mbox = mailbox.mbox(path.joinpath(mbox))\n",
    "    df = mbox_to_text(monthly_mbox)\n",
    "    df.to_csv(output_path)\n",
    "    new_files.append(output_path)\n",
    "    print(f\"{output_path} saved\")"
   ]
  },
  {
   "cell_type": "code",
   "execution_count": 8,
   "metadata": {},
   "outputs": [],
   "source": [
    "# Push to Ceph\n",
    "if os.getenv('RUN_IN_AUTOMATION'):\n",
    "    utils.upload_files((f.as_posix(), f'interim/text/{Path(f).name}') for f in new_files)"
   ]
  }
 ],
 "metadata": {
  "kernelspec": {
   "display_name": "devenv",
   "language": "python",
   "name": "devenv"
  },
  "language_info": {
   "codemirror_mode": {
    "name": "ipython",
    "version": 3
   },
   "file_extension": ".py",
   "mimetype": "text/x-python",
   "name": "python",
   "nbconvert_exporter": "python",
   "pygments_lexer": "ipython3",
   "version": "3.7.4"
  }
 },
 "nbformat": 4,
 "nbformat_minor": 2
}

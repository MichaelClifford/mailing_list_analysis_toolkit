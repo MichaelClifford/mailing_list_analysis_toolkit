{
 "cells": [
  {
   "cell_type": "markdown",
   "metadata": {},
   "source": [
    "Download Fedora Data Set as Monthly *gz. files and store in Ceph"
   ]
  },
  {
   "cell_type": "code",
   "execution_count": 10,
   "metadata": {},
   "outputs": [],
   "source": [
    "import wget\n",
    "import os\n",
    "import sys\n",
    "import datetime\n",
    "import pandas as pd\n",
    "from itertools import product\n",
    "from pathlib import Path\n",
    "import boto3\n",
    "from dotenv import load_dotenv\n",
    "load_dotenv(\"../../.env\")\n",
    "sys.path.append('../..')\n",
    "from src import utils"
   ]
  },
  {
   "cell_type": "code",
   "execution_count": 2,
   "metadata": {},
   "outputs": [],
   "source": [
    "BASE_PATH = os.getenv(\"LOCAL_DATA_PATH\", \"../../data\")"
   ]
  },
  {
   "cell_type": "code",
   "execution_count": 3,
   "metadata": {},
   "outputs": [],
   "source": [
    "CURRENT_DATE = datetime.datetime.now().replace(day=1)\n",
    "START_DATE = datetime.date(2018,1,1)"
   ]
  },
  {
   "cell_type": "code",
   "execution_count": 4,
   "metadata": {},
   "outputs": [],
   "source": [
    "dates = pd.date_range(START_DATE,\n",
    "              CURRENT_DATE,freq=\"m\")\n",
    "    \n",
    "if os.getenv(\"RUN_IN_AUTOMATION\"):\n",
    "    dates = [dates[-1]]"
   ]
  },
  {
   "cell_type": "code",
   "execution_count": 43,
   "metadata": {},
   "outputs": [
    {
     "name": "stdout",
     "output_type": "stream",
     "text": [
      "https://lists.fedoraproject.org/archives/list/devel@lists.fedoraproject.org/export/devel@lists.fedoraproject.org.mbox.gz?start=2018-1-01&end=2018-1-31\n",
      "https://lists.fedoraproject.org/archives/list/devel@lists.fedoraproject.org/export/devel@lists.fedoraproject.org.mbox.gz?start=2018-2-01&end=2018-2-28\n",
      "https://lists.fedoraproject.org/archives/list/devel@lists.fedoraproject.org/export/devel@lists.fedoraproject.org.mbox.gz?start=2018-3-01&end=2018-3-31\n",
      "https://lists.fedoraproject.org/archives/list/devel@lists.fedoraproject.org/export/devel@lists.fedoraproject.org.mbox.gz?start=2018-4-01&end=2018-4-30\n",
      "https://lists.fedoraproject.org/archives/list/devel@lists.fedoraproject.org/export/devel@lists.fedoraproject.org.mbox.gz?start=2018-5-01&end=2018-5-31\n",
      "https://lists.fedoraproject.org/archives/list/devel@lists.fedoraproject.org/export/devel@lists.fedoraproject.org.mbox.gz?start=2018-6-01&end=2018-6-30\n",
      "https://lists.fedoraproject.org/archives/list/devel@lists.fedoraproject.org/export/devel@lists.fedoraproject.org.mbox.gz?start=2018-7-01&end=2018-7-31\n",
      "https://lists.fedoraproject.org/archives/list/devel@lists.fedoraproject.org/export/devel@lists.fedoraproject.org.mbox.gz?start=2018-8-01&end=2018-8-31\n",
      "https://lists.fedoraproject.org/archives/list/devel@lists.fedoraproject.org/export/devel@lists.fedoraproject.org.mbox.gz?start=2018-9-01&end=2018-9-30\n",
      "https://lists.fedoraproject.org/archives/list/devel@lists.fedoraproject.org/export/devel@lists.fedoraproject.org.mbox.gz?start=2018-10-01&end=2018-10-31\n",
      "https://lists.fedoraproject.org/archives/list/devel@lists.fedoraproject.org/export/devel@lists.fedoraproject.org.mbox.gz?start=2018-11-01&end=2018-11-30\n",
      "https://lists.fedoraproject.org/archives/list/devel@lists.fedoraproject.org/export/devel@lists.fedoraproject.org.mbox.gz?start=2018-12-01&end=2018-12-31\n",
      "https://lists.fedoraproject.org/archives/list/devel@lists.fedoraproject.org/export/devel@lists.fedoraproject.org.mbox.gz?start=2019-1-01&end=2019-1-31\n",
      "https://lists.fedoraproject.org/archives/list/devel@lists.fedoraproject.org/export/devel@lists.fedoraproject.org.mbox.gz?start=2019-2-01&end=2019-2-28\n",
      "https://lists.fedoraproject.org/archives/list/devel@lists.fedoraproject.org/export/devel@lists.fedoraproject.org.mbox.gz?start=2019-3-01&end=2019-3-31\n",
      "https://lists.fedoraproject.org/archives/list/devel@lists.fedoraproject.org/export/devel@lists.fedoraproject.org.mbox.gz?start=2019-4-01&end=2019-4-30\n",
      "https://lists.fedoraproject.org/archives/list/devel@lists.fedoraproject.org/export/devel@lists.fedoraproject.org.mbox.gz?start=2019-5-01&end=2019-5-31\n",
      "https://lists.fedoraproject.org/archives/list/devel@lists.fedoraproject.org/export/devel@lists.fedoraproject.org.mbox.gz?start=2019-6-01&end=2019-6-30\n",
      "https://lists.fedoraproject.org/archives/list/devel@lists.fedoraproject.org/export/devel@lists.fedoraproject.org.mbox.gz?start=2019-7-01&end=2019-7-31\n",
      "https://lists.fedoraproject.org/archives/list/devel@lists.fedoraproject.org/export/devel@lists.fedoraproject.org.mbox.gz?start=2019-8-01&end=2019-8-31\n",
      "https://lists.fedoraproject.org/archives/list/devel@lists.fedoraproject.org/export/devel@lists.fedoraproject.org.mbox.gz?start=2019-9-01&end=2019-9-30\n",
      "https://lists.fedoraproject.org/archives/list/devel@lists.fedoraproject.org/export/devel@lists.fedoraproject.org.mbox.gz?start=2019-10-01&end=2019-10-31\n",
      "https://lists.fedoraproject.org/archives/list/devel@lists.fedoraproject.org/export/devel@lists.fedoraproject.org.mbox.gz?start=2019-11-01&end=2019-11-30\n",
      "https://lists.fedoraproject.org/archives/list/devel@lists.fedoraproject.org/export/devel@lists.fedoraproject.org.mbox.gz?start=2019-12-01&end=2019-12-31\n",
      "https://lists.fedoraproject.org/archives/list/devel@lists.fedoraproject.org/export/devel@lists.fedoraproject.org.mbox.gz?start=2020-1-01&end=2020-1-31\n",
      "https://lists.fedoraproject.org/archives/list/devel@lists.fedoraproject.org/export/devel@lists.fedoraproject.org.mbox.gz?start=2020-2-01&end=2020-2-29\n",
      "https://lists.fedoraproject.org/archives/list/devel@lists.fedoraproject.org/export/devel@lists.fedoraproject.org.mbox.gz?start=2020-3-01&end=2020-3-31\n",
      "https://lists.fedoraproject.org/archives/list/devel@lists.fedoraproject.org/export/devel@lists.fedoraproject.org.mbox.gz?start=2020-4-01&end=2020-4-30\n",
      "https://lists.fedoraproject.org/archives/list/devel@lists.fedoraproject.org/export/devel@lists.fedoraproject.org.mbox.gz?start=2020-5-01&end=2020-5-31\n",
      "https://lists.fedoraproject.org/archives/list/devel@lists.fedoraproject.org/export/devel@lists.fedoraproject.org.mbox.gz?start=2020-6-01&end=2020-6-30\n",
      "https://lists.fedoraproject.org/archives/list/devel@lists.fedoraproject.org/export/devel@lists.fedoraproject.org.mbox.gz?start=2020-7-01&end=2020-7-31\n",
      "https://lists.fedoraproject.org/archives/list/devel@lists.fedoraproject.org/export/devel@lists.fedoraproject.org.mbox.gz?start=2020-8-01&end=2020-8-31\n",
      "https://lists.fedoraproject.org/archives/list/devel@lists.fedoraproject.org/export/devel@lists.fedoraproject.org.mbox.gz?start=2020-9-01&end=2020-9-30\n",
      "https://lists.fedoraproject.org/archives/list/devel@lists.fedoraproject.org/export/devel@lists.fedoraproject.org.mbox.gz?start=2020-10-01&end=2020-10-31\n",
      "https://lists.fedoraproject.org/archives/list/devel@lists.fedoraproject.org/export/devel@lists.fedoraproject.org.mbox.gz?start=2020-11-01&end=2020-11-30\n"
     ]
    }
   ],
   "source": [
    "base_url = \"https://lists.fedoraproject.org/archives/list/devel@lists.\\\n",
    "fedoraproject.org/export/devel@lists.fedoraproject.org.mbox.gz\"\n",
    "\n",
    "for i, date in enumerate(dates):\n",
    "    url = f\"{base_url}?start={date.year}-{date.month}-01&end={date.year}-{date.month}-{date.day}\"\n",
    "    print(url)\n",
    "    wget.download(url,out= f\"../../data/raw/fedora-devel-list/fedora-devel-{date.year}-{date.month}.mbox.gz\")"
   ]
  },
  {
   "cell_type": "markdown",
   "metadata": {},
   "source": [
    "# upload data to s3"
   ]
  },
  {
   "cell_type": "code",
   "execution_count": 5,
   "metadata": {},
   "outputs": [],
   "source": [
    "new_files = [f\"../../data/raw/fedora-devel-list/fedora-devel-{date.year}-{date.month}.mbox.gz\"\n",
    "            for date in dates]"
   ]
  },
  {
   "cell_type": "code",
   "execution_count": 12,
   "metadata": {},
   "outputs": [
    {
     "name": "stdout",
     "output_type": "stream",
     "text": [
      "Uploading file: ../../data/raw/fedora-devel-list/fedora-devel-2018-1.mbox.gz to mcliffor/fedora_devel_mail/raw/fedora-devel-2018-1.mbox.gz...\tDone\n",
      "Uploading file: ../../data/raw/fedora-devel-list/fedora-devel-2018-2.mbox.gz to mcliffor/fedora_devel_mail/raw/fedora-devel-2018-2.mbox.gz...\tDone\n",
      "Uploading file: ../../data/raw/fedora-devel-list/fedora-devel-2018-3.mbox.gz to mcliffor/fedora_devel_mail/raw/fedora-devel-2018-3.mbox.gz...\tDone\n",
      "Uploading file: ../../data/raw/fedora-devel-list/fedora-devel-2018-4.mbox.gz to mcliffor/fedora_devel_mail/raw/fedora-devel-2018-4.mbox.gz...\tDone\n",
      "Uploading file: ../../data/raw/fedora-devel-list/fedora-devel-2018-5.mbox.gz to mcliffor/fedora_devel_mail/raw/fedora-devel-2018-5.mbox.gz...\tDone\n",
      "Uploading file: ../../data/raw/fedora-devel-list/fedora-devel-2018-6.mbox.gz to mcliffor/fedora_devel_mail/raw/fedora-devel-2018-6.mbox.gz...\tDone\n",
      "Uploading file: ../../data/raw/fedora-devel-list/fedora-devel-2018-7.mbox.gz to mcliffor/fedora_devel_mail/raw/fedora-devel-2018-7.mbox.gz...\tDone\n",
      "Uploading file: ../../data/raw/fedora-devel-list/fedora-devel-2018-8.mbox.gz to mcliffor/fedora_devel_mail/raw/fedora-devel-2018-8.mbox.gz...\tDone\n",
      "Uploading file: ../../data/raw/fedora-devel-list/fedora-devel-2018-9.mbox.gz to mcliffor/fedora_devel_mail/raw/fedora-devel-2018-9.mbox.gz...\tDone\n",
      "Uploading file: ../../data/raw/fedora-devel-list/fedora-devel-2018-10.mbox.gz to mcliffor/fedora_devel_mail/raw/fedora-devel-2018-10.mbox.gz...\tDone\n",
      "Uploading file: ../../data/raw/fedora-devel-list/fedora-devel-2018-11.mbox.gz to mcliffor/fedora_devel_mail/raw/fedora-devel-2018-11.mbox.gz...\tDone\n",
      "Uploading file: ../../data/raw/fedora-devel-list/fedora-devel-2018-12.mbox.gz to mcliffor/fedora_devel_mail/raw/fedora-devel-2018-12.mbox.gz...\tDone\n",
      "Uploading file: ../../data/raw/fedora-devel-list/fedora-devel-2019-1.mbox.gz to mcliffor/fedora_devel_mail/raw/fedora-devel-2019-1.mbox.gz...\tDone\n",
      "Uploading file: ../../data/raw/fedora-devel-list/fedora-devel-2019-2.mbox.gz to mcliffor/fedora_devel_mail/raw/fedora-devel-2019-2.mbox.gz...\tDone\n",
      "Uploading file: ../../data/raw/fedora-devel-list/fedora-devel-2019-3.mbox.gz to mcliffor/fedora_devel_mail/raw/fedora-devel-2019-3.mbox.gz...\tDone\n",
      "Uploading file: ../../data/raw/fedora-devel-list/fedora-devel-2019-4.mbox.gz to mcliffor/fedora_devel_mail/raw/fedora-devel-2019-4.mbox.gz...\tDone\n",
      "Uploading file: ../../data/raw/fedora-devel-list/fedora-devel-2019-5.mbox.gz to mcliffor/fedora_devel_mail/raw/fedora-devel-2019-5.mbox.gz...\tDone\n",
      "Uploading file: ../../data/raw/fedora-devel-list/fedora-devel-2019-6.mbox.gz to mcliffor/fedora_devel_mail/raw/fedora-devel-2019-6.mbox.gz...\tDone\n",
      "Uploading file: ../../data/raw/fedora-devel-list/fedora-devel-2019-7.mbox.gz to mcliffor/fedora_devel_mail/raw/fedora-devel-2019-7.mbox.gz...\tDone\n",
      "Uploading file: ../../data/raw/fedora-devel-list/fedora-devel-2019-8.mbox.gz to mcliffor/fedora_devel_mail/raw/fedora-devel-2019-8.mbox.gz...\tDone\n",
      "Uploading file: ../../data/raw/fedora-devel-list/fedora-devel-2019-9.mbox.gz to mcliffor/fedora_devel_mail/raw/fedora-devel-2019-9.mbox.gz...\tDone\n",
      "Uploading file: ../../data/raw/fedora-devel-list/fedora-devel-2019-10.mbox.gz to mcliffor/fedora_devel_mail/raw/fedora-devel-2019-10.mbox.gz...\tDone\n",
      "Uploading file: ../../data/raw/fedora-devel-list/fedora-devel-2019-11.mbox.gz to mcliffor/fedora_devel_mail/raw/fedora-devel-2019-11.mbox.gz...\tDone\n",
      "Uploading file: ../../data/raw/fedora-devel-list/fedora-devel-2019-12.mbox.gz to mcliffor/fedora_devel_mail/raw/fedora-devel-2019-12.mbox.gz...\tDone\n",
      "Uploading file: ../../data/raw/fedora-devel-list/fedora-devel-2020-1.mbox.gz to mcliffor/fedora_devel_mail/raw/fedora-devel-2020-1.mbox.gz...\tDone\n",
      "Uploading file: ../../data/raw/fedora-devel-list/fedora-devel-2020-2.mbox.gz to mcliffor/fedora_devel_mail/raw/fedora-devel-2020-2.mbox.gz...\tDone\n",
      "Uploading file: ../../data/raw/fedora-devel-list/fedora-devel-2020-3.mbox.gz to mcliffor/fedora_devel_mail/raw/fedora-devel-2020-3.mbox.gz...\tDone\n",
      "Uploading file: ../../data/raw/fedora-devel-list/fedora-devel-2020-4.mbox.gz to mcliffor/fedora_devel_mail/raw/fedora-devel-2020-4.mbox.gz...\tDone\n",
      "Uploading file: ../../data/raw/fedora-devel-list/fedora-devel-2020-5.mbox.gz to mcliffor/fedora_devel_mail/raw/fedora-devel-2020-5.mbox.gz...\tDone\n",
      "Uploading file: ../../data/raw/fedora-devel-list/fedora-devel-2020-6.mbox.gz to mcliffor/fedora_devel_mail/raw/fedora-devel-2020-6.mbox.gz...\tDone\n",
      "Uploading file: ../../data/raw/fedora-devel-list/fedora-devel-2020-7.mbox.gz to mcliffor/fedora_devel_mail/raw/fedora-devel-2020-7.mbox.gz...\tDone\n",
      "Uploading file: ../../data/raw/fedora-devel-list/fedora-devel-2020-8.mbox.gz to mcliffor/fedora_devel_mail/raw/fedora-devel-2020-8.mbox.gz...\tDone\n",
      "Uploading file: ../../data/raw/fedora-devel-list/fedora-devel-2020-9.mbox.gz to mcliffor/fedora_devel_mail/raw/fedora-devel-2020-9.mbox.gz...\tDone\n",
      "Uploading file: ../../data/raw/fedora-devel-list/fedora-devel-2020-10.mbox.gz to mcliffor/fedora_devel_mail/raw/fedora-devel-2020-10.mbox.gz...\tDone\n",
      "Uploading file: ../../data/raw/fedora-devel-list/fedora-devel-2020-11.mbox.gz to mcliffor/fedora_devel_mail/raw/fedora-devel-2020-11.mbox.gz...\tDone\n"
     ]
    }
   ],
   "source": [
    "#if os.getenv('RUN_IN_AUTOMATION'):\n",
    "utils.upload_files((f, f'raw/{Path(f).name}') for f in new_files)"
   ]
  }
 ],
 "metadata": {
  "kernelspec": {
   "display_name": "Python 3",
   "language": "python",
   "name": "python3"
  },
  "language_info": {
   "codemirror_mode": {
    "name": "ipython",
    "version": 3
   },
   "file_extension": ".py",
   "mimetype": "text/x-python",
   "name": "python",
   "nbconvert_exporter": "python",
   "pygments_lexer": "ipython3",
   "version": "3.7.3"
  }
 },
 "nbformat": 4,
 "nbformat_minor": 2
}

{
 "cells": [
  {
   "cell_type": "markdown",
   "metadata": {},
   "source": [
    "# Download Datasets\n",
    "\n",
    "**NOTE: This notebook is only used in automation**\n",
    "\n",
    "While running our application on a monthly basis, we would prefer to not re-run all of the data preprocessing each month. Instead, we only pre-process the data once; on the month that it is pulled, and then store the interim data set in ceph. This notebook is responsible for downloading the pre-processed data sets stored remotely into our application for use by the analysis notebooks.   "
   ]
  },
  {
   "cell_type": "code",
   "execution_count": null,
   "metadata": {},
   "outputs": [],
   "source": [
    "import os\n",
    "from pathlib import Path\n",
    "import boto3\n",
    "from concurrent import futures\n",
    "from dotenv import load_dotenv\n",
    "load_dotenv(\"../../.env\")"
   ]
  },
  {
   "cell_type": "code",
   "execution_count": null,
   "metadata": {},
   "outputs": [],
   "source": [
    "# Get environment variables for data access and management\n",
    "\n",
    "BASE_PATH = os.getenv(\"LOCAL_DATA_PATH\", \"../../data\")\n",
    "S3_ENDPOINT_URL = os.getenv('S3_ENDPOINT_URL', 'https://s3.upshift.redhat.com')\n",
    "AWS_ACCESS_KEY_ID = os.getenv('AWS_ACCESS_KEY_ID')\n",
    "AWS_SECRET_ACCESS_KEY = os.getenv('AWS_SECRET_ACCESS_KEY')\n",
    "S3_BUCKET = os.getenv('S3_BUCKET', 'DH-PLAYPEN')\n",
    "S3_PROJECT_KEY = os.getenv(\"S3_PROJECT_KEY\",\"mcliffor/fedora_devel_mail\")"
   ]
  },
  {
   "cell_type": "code",
   "execution_count": null,
   "metadata": {},
   "outputs": [],
   "source": [
    "# Connect to our S3 instance\n",
    "\n",
    "s3 = boto3.client(\n",
    "    's3',\n",
    "    endpoint_url=S3_ENDPOINT_URL,\n",
    "    aws_access_key_id=AWS_ACCESS_KEY_ID,\n",
    "    aws_secret_access_key=AWS_SECRET_ACCESS_KEY\n",
    ")"
   ]
  },
  {
   "cell_type": "code",
   "execution_count": null,
   "metadata": {},
   "outputs": [],
   "source": [
    "# Define a function for collecting one of the \"interim\" datasets\n",
    "\n",
    "def download_dataset(dataset):\n",
    "    dataset_base_path = Path(f\"{BASE_PATH}/interim/{dataset}\")\n",
    "    dataset_base_path.mkdir(parents=True, exist_ok=True)\n",
    "\n",
    "    for chunk in s3.list_objects_v2(Bucket=S3_BUCKET, Prefix=f'{S3_PROJECT_KEY}/interim/{dataset}').get('Contents', ()):\n",
    "        print(f\"Downloading file: {chunk['Key']} to {dataset_base_path}/{Path(chunk['Key']).name}\")\n",
    "        yield (s3.download_file, S3_BUCKET, chunk['Key'], f\"{dataset_base_path}/{Path(chunk['Key']).name}\")"
   ]
  },
  {
   "cell_type": "code",
   "execution_count": null,
   "metadata": {},
   "outputs": [],
   "source": [
    "# Use `download_dataset` to get all DATASETS into our application.\n",
    "\n",
    "DATASETS = ('text', 'metadata')\n",
    "\n",
    "\n",
    "with futures.ThreadPoolExecutor(max_workers=20) as e:\n",
    "    [e.submit(*task) for dataset in DATASETS for task in download_dataset(dataset)]\n",
    "\n",
    "print('Done')"
   ]
  }
 ],
 "metadata": {
  "kernelspec": {
   "display_name": "devenv",
   "language": "python",
   "name": "devenv"
  },
  "language_info": {
   "codemirror_mode": {
    "name": "ipython",
    "version": 3
   },
   "file_extension": ".py",
   "mimetype": "text/x-python",
   "name": "python",
   "nbconvert_exporter": "python",
   "pygments_lexer": "ipython3",
   "version": "3.7.4"
  }
 },
 "nbformat": 4,
 "nbformat_minor": 2
}

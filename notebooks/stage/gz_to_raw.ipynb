{
 "cells": [
  {
   "cell_type": "markdown",
   "metadata": {},
   "source": [
    "# gz_to_raw monthly data"
   ]
  },
  {
   "cell_type": "markdown",
   "metadata": {},
   "source": [
    "Check the raw data folder for any *.gz files that do not have a corresponding mbox file, then unzip them locally. "
   ]
  },
  {
   "cell_type": "code",
   "execution_count": 15,
   "metadata": {},
   "outputs": [
    {
     "data": {
      "text/plain": [
       "True"
      ]
     },
     "execution_count": 15,
     "metadata": {},
     "output_type": "execute_result"
    }
   ],
   "source": [
    "import gzip\n",
    "import shutil\n",
    "import os\n",
    "from pathlib import Path\n",
    "from dotenv import load_dotenv\n",
    "load_dotenv(\"../../.env\")"
   ]
  },
  {
   "cell_type": "code",
   "execution_count": 16,
   "metadata": {},
   "outputs": [
    {
     "data": {
      "text/plain": [
       "[]"
      ]
     },
     "execution_count": 16,
     "metadata": {},
     "output_type": "execute_result"
    }
   ],
   "source": [
    "BASE_PATH = os.getenv(\"LOCAL_DATA_PATH\", \"../../data\")\n",
    "path = Path(BASE_PATH).joinpath('raw/fedora-devel-list')\n",
    "\n",
    "# check for gz that don't have a corresponding mbox\n",
    "gzs_names = set([x.name for x in list(path.glob(\"*.gz\"))])\n",
    "mbox_names = set([x.name + '.gz' for x in list(path.glob(\"*.mbox\"))])\n",
    "gzs = list(gzs_names.difference(mbox_names))  "
   ]
  },
  {
   "cell_type": "code",
   "execution_count": 12,
   "metadata": {},
   "outputs": [],
   "source": [
    "for mail in gzs:\n",
    "    with gzip.open(path.joinpath(mail), 'rb') as f_in:\n",
    "        with open(path.joinpath(mail[:-3]), 'wb') as f_out:\n",
    "            print(mail[:-3])\n",
    "            shutil.copyfileobj(f_in, f_out)"
   ]
  }
 ],
 "metadata": {
  "kernelspec": {
   "display_name": "devenv",
   "language": "python",
   "name": "devenv"
  },
  "language_info": {
   "codemirror_mode": {
    "name": "ipython",
    "version": 3
   },
   "file_extension": ".py",
   "mimetype": "text/x-python",
   "name": "python",
   "nbconvert_exporter": "python",
   "pygments_lexer": "ipython3",
   "version": "3.7.4"
  }
 },
 "nbformat": 4,
 "nbformat_minor": 2
}
